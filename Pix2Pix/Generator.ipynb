{
 "cells": [
  {
   "cell_type": "code",
   "execution_count": 83,
   "id": "0419d018-6d65-4e68-b62c-f6096b4baf93",
   "metadata": {},
   "outputs": [],
   "source": [
    "import torch \n",
    "import torch.nn as nn "
   ]
  },
  {
   "cell_type": "code",
   "execution_count": 85,
   "id": "e22fc161-fdd4-4e90-a9ac-db20d3b39e55",
   "metadata": {},
   "outputs": [],
   "source": [
    "class Block(nn.Module):\n",
    "    def __init__(self, in_channels, out_channels, down=True, act=\"relu\", use_dropout=False):\n",
    "        super(Block, self).__init__()\n",
    "        self.conv = nn.Sequential(\n",
    "            nn.Conv2d(in_channels, out_channels, 4, 2, 1, bias=False, padding_mode=\"reflect\")\n",
    "            if down\n",
    "            else nn.ConvTranspose2d(in_channels, out_channels, 4, 2, 1, bias=False),\n",
    "            nn.BatchNorm2d(out_channels),\n",
    "            nn.ReLU() if act == \"relu\" else nn.LeakyReLU(0.2),\n",
    "        )\n",
    "\n",
    "        self.use_dropout = use_dropout\n",
    "        self.dropout = nn.Dropout(0.5)\n",
    "        self.down = down\n",
    "\n",
    "    def forward(self, x):\n",
    "        x = self.conv(x)\n",
    "        return self.dropout(x) if self.use_dropout else x"
   ]
  },
  {
   "cell_type": "code",
   "execution_count": 95,
   "id": "446cec10-1fff-4d9f-9390-7e500ad3ddf8",
   "metadata": {},
   "outputs": [],
   "source": [
    "class Generator(nn.Module):\n",
    "    def __init__( self,in_channels=3, features=64):\n",
    "        super().__init__()\n",
    "        self.initial_down = nn.Sequential(\n",
    "            nn.Conv2d(in_channels,features,4,2,1,padding_mode=\"reflect\"),\n",
    "            nn.LeakyReLU(0.2),\n",
    "        )\n",
    "        self.down1=Block(features,features*2,down=True,act=\"leaky\",use_dropout= False)\n",
    "        self.down2=Block(features*2,features*4,down=True,act=\"leaky\",use_dropout= False)\n",
    "        self.down3=Block(features*4,features*8,down=True,act=\"leaky\",use_dropout= False)\n",
    "        self.down4=Block(features*8,features*8,down=True,act=\"leaky\",use_dropout= False )\n",
    "        self.down5=Block(features*8,features*8,down=True,act=\"leaky\",use_dropout= False )\n",
    "        self.down6=Block(features*8,features*8,down=True,act=\"leaky\",use_dropout= False )\n",
    "\n",
    "        self.bottleneck=nn.Sequential( nn.Conv2d(features*8,features*8,4,2,1), nn.ReLU())\n",
    "\n",
    "        self.up1=Block(features*8,features*8,down=False,act=\"relu\",use_dropout=True)\n",
    "        self.up2=Block(features*8*2,features*8,down=False,act=\"relu\",use_dropout=True)\n",
    "        self.up3=Block(features*8*2,features*8,down=False,act=\"relu\",use_dropout=True)\n",
    "        self.up4=Block(features*8*2,features*8,down=False,act=\"relu\",use_dropout=False)\n",
    "        self.up5=Block(features*8*2,features*4,down=False,act=\"relu\",use_dropout=False)\n",
    "        self.up6=Block(features*4*2,features*2,down=False,act=\"relu\",use_dropout=False)\n",
    "        self.up7=Block(features*2*2,features,down=False,act=\"relu\",use_dropout=False)\n",
    "\n",
    "        self.final_up=nn.Sequential( nn.ConvTranspose2d(features*2,in_channels,kernel_size=4,stride=2,padding=1),\n",
    "                                    nn.Tanh(), ) \n",
    "    def forward(self, x):\n",
    "        d1 = self.initial_down(x)\n",
    "        d2 = self.down1(d1)\n",
    "        d3 = self.down2(d2)\n",
    "        d4 = self.down3(d3)\n",
    "        d5 = self.down4(d4)\n",
    "        d6 = self.down5(d5)\n",
    "        d7 = self.down6(d6)\n",
    "        bottleneck = self.bottleneck(d7)\n",
    "        up1 = self.up1(bottleneck)\n",
    "        up2 = self.up2(torch.cat([up1, d7], 1))\n",
    "        up3 = self.up3(torch.cat([up2, d6], 1))\n",
    "        up4 = self.up4(torch.cat([up3, d5], 1))\n",
    "        up5 = self.up5(torch.cat([up4, d4], 1))\n",
    "        up6 = self.up6(torch.cat([up5, d3], 1))\n",
    "        up7 = self.up7(torch.cat([up6, d2], 1))\n",
    "        return self.final_up(torch.cat([up7, d1], 1))"
   ]
  },
  {
   "cell_type": "code",
   "execution_count": 97,
   "id": "e72bc979-ea16-44c7-8efc-6f1822d42f0f",
   "metadata": {},
   "outputs": [
    {
     "name": "stdout",
     "output_type": "stream",
     "text": [
      "torch.Size([1, 3, 256, 256])\n"
     ]
    }
   ],
   "source": [
    "def test():\n",
    "    x = torch.randn((1, 3, 256, 256))\n",
    "    model = Generator(in_channels=3, features=64)\n",
    "    preds = model(x)\n",
    "    print(preds.shape)\n",
    "\n",
    "\n",
    "if __name__ == \"__main__\":\n",
    "   test()\n",
    "        "
   ]
  },
  {
   "cell_type": "code",
   "execution_count": null,
   "id": "f93ded6f-8cfb-4fba-bd34-7fe734fbd8ae",
   "metadata": {},
   "outputs": [],
   "source": []
  },
  {
   "cell_type": "code",
   "execution_count": null,
   "id": "43ae7ee6-d91e-480b-a4dd-4fdf74bef0e4",
   "metadata": {},
   "outputs": [],
   "source": []
  }
 ],
 "metadata": {
  "kernelspec": {
   "display_name": "Python 3 (ipykernel)",
   "language": "python",
   "name": "python3"
  },
  "language_info": {
   "codemirror_mode": {
    "name": "ipython",
    "version": 3
   },
   "file_extension": ".py",
   "mimetype": "text/x-python",
   "name": "python",
   "nbconvert_exporter": "python",
   "pygments_lexer": "ipython3",
   "version": "3.12.4"
  }
 },
 "nbformat": 4,
 "nbformat_minor": 5
}
