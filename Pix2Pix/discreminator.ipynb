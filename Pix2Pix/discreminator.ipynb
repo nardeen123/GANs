{
 "cells": [
  {
   "cell_type": "code",
   "execution_count": 9,
   "id": "e9bd2c6b-a080-4d61-a1bb-6b1da08323f9",
   "metadata": {},
   "outputs": [],
   "source": [
    "import torch \n",
    "import torch.nn as nn"
   ]
  },
  {
   "cell_type": "code",
   "execution_count": 11,
   "id": "52983774-b183-45fd-87c4-73f65a75e8b5",
   "metadata": {},
   "outputs": [],
   "source": [
    "class CNNBlock(nn.Module):\n",
    "    def __init__(self, in_channels, out_channels, stride):\n",
    "        super(CNNBlock,self).__init__()\n",
    "        ## define intial and base layer \n",
    "        self.conv = nn.Sequential(\n",
    "            nn,conv2d(\n",
    "                in_channels, out_channels, 4 , stride, 1 , bias= False, padding_mode=\"reflect\"\n",
    "            ),\n",
    "            nn.BatchNorm2d(out_channels),\n",
    "            nn.LeakyReLU(0.2),\n",
    "        )\n",
    "    def forword(self,x): \n",
    "        return self.conv(x)"
   ]
  },
  {
   "cell_type": "code",
   "execution_count": 24,
   "id": "d1288d62-52fb-4f6c-bb0d-aa00fcb4bc62",
   "metadata": {},
   "outputs": [],
   "source": [
    "class Discriminator(nn.Module):\n",
    "    \n",
    "    # features=[64,128,256,512] it is number of filters/ channels for each layer of the discriminator\n",
    "    # in_channels=3 --> Colored input ( RGB ) \n",
    "    def __init__(self, in_channels=3,features=[64,128,256,512]):\n",
    "        super().__init__()\n",
    "        self.initial = nn.Sequential(\n",
    "            nn.Conv2d(\n",
    "                # the discriminator takes 2 inputs conctatenated together ( input image , target/output image ) \n",
    "                in_channels*2,\n",
    "                feature[0],\n",
    "                kernal_size=4,\n",
    "                stride=2,\n",
    "                padding=1,\n",
    "                # This padding strategy mirrors the values at the tensor edges rather than using zeros or other constants\n",
    "                padding_mode=\"reflect\",\n",
    "            ),\n",
    "            nn.LeakyReLU(0.2),\n",
    "        )\n",
    "        \n",
    "        layers=[]\n",
    "        in_channels=features[0]\n",
    "        for feature in features[1:]:\n",
    "            # stride=1 in the last layer ensures we don't downsample further\n",
    "            layers.append(in_channels,feature,stride = 1 if feature == features[-1] else 2 ),\n",
    "            in_channels = feature\n",
    "        layers.append(\n",
    "            conv2d(in_channels,1,kernal_size = 4, stride = 1 , padding = 1 , padding_mode= \" reflect\"),\n",
    "        )\n",
    "        # The * operator is called the \"unpacking operator\", and it's used to split a list into individual elements\n",
    "        self.model = nn.Sequential(*layers)\n",
    "        \n",
    "    def forword(self,x,y):\n",
    "        #  Concatenates x and y along channel dimension\n",
    "        x= torch.cat([x,y],dim=1)\n",
    "        # Passes the concatenated input through the first layer \n",
    "        x= self.initial(x)\n",
    "        # Processes the feature maps through the remaining layers\n",
    "        x= self.model(x)\n",
    "        return x \n",
    "\n",
    "    def test():\n",
    "       x=torch.randn((1,3,256,256))\n",
    "       y=torch.rand((1,3,256,256))\n",
    "       model = Distriminator(in_channels=3)\n",
    "       preds = model(x,y)\n",
    "       print(model)\n",
    "       print(preds.shape)\n",
    "\n",
    "    if __name__ == \" __main__\":\n",
    "        test()"
   ]
  },
  {
   "cell_type": "code",
   "execution_count": null,
   "id": "d2dce763-146a-4525-8db6-499d001ed6a3",
   "metadata": {},
   "outputs": [],
   "source": []
  }
 ],
 "metadata": {
  "kernelspec": {
   "display_name": "Python 3 (ipykernel)",
   "language": "python",
   "name": "python3"
  },
  "language_info": {
   "codemirror_mode": {
    "name": "ipython",
    "version": 3
   },
   "file_extension": ".py",
   "mimetype": "text/x-python",
   "name": "python",
   "nbconvert_exporter": "python",
   "pygments_lexer": "ipython3",
   "version": "3.12.4"
  }
 },
 "nbformat": 4,
 "nbformat_minor": 5
}
