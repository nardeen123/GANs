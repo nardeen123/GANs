{
 "cells": [
  {
   "cell_type": "code",
   "execution_count": 2,
   "id": "d9300b01-3747-48be-a4c2-2d7f13b9bda4",
   "metadata": {},
   "outputs": [],
   "source": [
    "import torch\n",
    "import torch.nn as nn"
   ]
  },
  {
   "cell_type": "code",
   "execution_count": 62,
   "id": "36f5fa2e-3f2e-4fcf-a8c1-afd78c7b65d8",
   "metadata": {},
   "outputs": [],
   "source": [
    "class ConvBlock(nn.Module):\n",
    "    #**kwargs is a special syntax that stands for \"keyword arguments.\" It allows you to pass a variable number of named arguments to a function.\n",
    "    # Suppose you want to set the kernel_size, stride, and padding for the convolution layer. Instead of defining them explicitly in ConvBlock.__init__, you can pass them via **kwargs\n",
    "    def __init__(self,in_channels,out_channels,down= True,use_act=True,**kwargs):\n",
    "        super().__init__()\n",
    "        self.conv= nn.Sequential(\n",
    "            nn.Conv2d(in_channels,out_channels,padding_mode=\"reflect\",**kwargs)\n",
    "            if down \n",
    "            else nn.ConvTranspose2d(in_channels,out_channels,**kwargs),\n",
    "            nn.InstanceNorm2d(out_channels),\n",
    "            nn.ReLU(inplace=True) if use_act else nn.Identity()\n",
    "        )\n",
    "    def forward(self,x):\n",
    "        return self.conv(x)"
   ]
  },
  {
   "cell_type": "code",
   "execution_count": 64,
   "id": "36f62cc6-fd39-46db-91f1-5ea68167d860",
   "metadata": {},
   "outputs": [],
   "source": [
    "class ResidualBlock(nn.Module):\n",
    "    def __init__(self, channels):\n",
    "        super().__init__()\n",
    "        self.block = nn.Sequential(\n",
    "            ConvBlock(channels, channels, kernel_size=3, padding=1),\n",
    "            ConvBlock(channels, channels, use_act=False, kernel_size=3, padding=1),\n",
    "        )\n",
    "\n",
    "    def forward(self, x):\n",
    "        return x + self.block(x)"
   ]
  },
  {
   "cell_type": "markdown",
   "id": "d29eaa96-f1a7-46d0-b465-0b11d2905203",
   "metadata": {},
   "source": [
    "The Generator is responsible for transforming an input image from one domain to another (e.g., horse → zebra in CycleGAN). The __init__ method initializes the first part of the generator, which typically consists of:\n",
    "\n",
    "##### An initial convolutional block (this code).\n",
    "\n",
    "##### Downsampling blocks (reduce spatial dimensions).\n",
    "\n",
    "##### Residual blocks (maintain image structure while transforming features).\n",
    "\n",
    "##### Upsampling blocks (restore spatial dimensions)."
   ]
  },
  {
   "cell_type": "code",
   "execution_count": 67,
   "id": "f74bf1d1-e089-4305-a934-49573de202aa",
   "metadata": {},
   "outputs": [],
   "source": [
    "class Generator(nn.Module):\n",
    "    # CycleGAN uses 9 residual blocks for 256x256 images (6 for 128x128).\n",
    "    def __init__(self,img_channels,num_features=64,num_residuals=9):\n",
    "        super().__init__()\n",
    "        self.initial = nn.Sequential(\n",
    "            nn.Conv2d(\n",
    "                img_channels,num_features,kernel_size=7,stride=1,padding=3,padding_mode=\"reflect\",\n",
    "            ),\n",
    "            # InstanceNorm normalizes each individual image and channel independently.\n",
    "            nn.InstanceNorm2d(num_features),\n",
    "            nn.ReLU(inplace=True),\n",
    "        )\n",
    "        self.down_blocks = nn.ModuleList(\n",
    "            [\n",
    "            ConvBlock(num_features,num_features*2,kernel_size=3,stride=2,padding=1),\n",
    "            ConvBlock(num_features*2,num_features*4,kernel_size=3,stride=2,padding=1),\n",
    "            ]\n",
    "        )\n",
    "        self.res_blocks = nn.Sequential(\n",
    "            # Resnet architecture \n",
    "            *[ResidualBlock(num_features*4) for _ in range(num_residuals)]\n",
    "        )\n",
    "        self.up_blocks = nn.ModuleList(\n",
    "            [\n",
    "                ConvBlock(num_features*4,num_features*2,down=False,kernel_size=3,stride=2,padding=1,output_padding=1),\n",
    "                ConvBlock(num_features*2,num_features*1,down=False,kernel_size=3,stride=2,padding=1,output_padding=1),\n",
    "            ]\n",
    "        )\n",
    "        self.last = nn.Conv2d( num_features*1,img_channels,kernel_size=7,stride=1,padding=3,padding_mode=\"reflect\")\n",
    "\n",
    "    def forward(self,x) :\n",
    "         x=self.initial(x)\n",
    "         for layer in self.down_blocks:\n",
    "             x=layer(x)\n",
    "         x = self.res_blocks(x)\n",
    "         for layer in self.up_blocks:\n",
    "             x=layer(x)\n",
    "         return torch.tanh(self.last(x))\n",
    "     \n",
    "        "
   ]
  },
  {
   "cell_type": "code",
   "execution_count": 69,
   "id": "a8176319-9af8-4dc4-8409-51a55ed8c1af",
   "metadata": {},
   "outputs": [
    {
     "name": "stdout",
     "output_type": "stream",
     "text": [
      "torch.Size([2, 3, 256, 256])\n"
     ]
    }
   ],
   "source": [
    "def test():\n",
    "    img_channels=3\n",
    "    img_size=256\n",
    "    x=torch.randn((2,img_channels,img_size,img_size))\n",
    "    gen = Generator(img_channels,9)\n",
    "    print(gen(x).shape)\n",
    "\n",
    "if __name__ == \"__main__\":\n",
    "    test()\n"
   ]
  },
  {
   "cell_type": "code",
   "execution_count": null,
   "id": "5d1c1f48-85ed-4722-a1fd-399aa07d8542",
   "metadata": {},
   "outputs": [],
   "source": []
  },
  {
   "cell_type": "code",
   "execution_count": null,
   "id": "6b7eed66-82e3-4c54-93a5-1e912d970512",
   "metadata": {},
   "outputs": [],
   "source": []
  }
 ],
 "metadata": {
  "kernelspec": {
   "display_name": "Python 3 (ipykernel)",
   "language": "python",
   "name": "python3"
  },
  "language_info": {
   "codemirror_mode": {
    "name": "ipython",
    "version": 3
   },
   "file_extension": ".py",
   "mimetype": "text/x-python",
   "name": "python",
   "nbconvert_exporter": "python",
   "pygments_lexer": "ipython3",
   "version": "3.12.4"
  }
 },
 "nbformat": 4,
 "nbformat_minor": 5
}
