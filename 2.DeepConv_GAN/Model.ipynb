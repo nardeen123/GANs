{
 "cells": [
  {
   "cell_type": "code",
   "execution_count": 37,
   "id": "59442612-5439-4d2e-ba0e-25014249abe3",
   "metadata": {},
   "outputs": [],
   "source": [
    "import torch \n",
    "import torch.nn as nn "
   ]
  },
  {
   "cell_type": "markdown",
   "id": "760a05b3-a0b7-4cac-b0fe-da258afcdee5",
   "metadata": {},
   "source": [
    "## D&G Classes "
   ]
  },
  {
   "cell_type": "code",
   "execution_count": 76,
   "id": "44a70851-6956-49ba-9626-d1faa9c1fe60",
   "metadata": {},
   "outputs": [],
   "source": [
    "class Discriminator(nn.Module):\n",
    "    def __init__(self,img_channels,features):\n",
    "        super(Discriminator,self).__init__()\n",
    "        self.disc = nn.Sequential(\n",
    "        # input : N x img_channels x 64 x 64 \n",
    "        nn.Conv2d(img_channels,features,kernel_size=4,stride =2,padding=1),\n",
    "        nn.LeakyReLU(0.2),\n",
    "        # blocks ---> (in_channels,out_channels,kernal_size,stride,padding)\n",
    "        self.block(features,features*2,4,2,1),\n",
    "        self.block(features*2,features*4,4,2,1),\n",
    "        self.block(features*4,features*8,4,2,1),\n",
    "        # after all block --> img output is 4x4 \n",
    "        # conv makes into 1x1 \n",
    "        nn.Conv2d(features*8,1,kernel_size=4,stride=2,padding=0),\n",
    "        nn.Sigmoid(),\n",
    "        )\n",
    "\n",
    "    def block(self,in_channels,out_channels,kernal_size,stride,padding):\n",
    "        return nn.Sequential(\n",
    "            nn.Conv2d(\n",
    "                in_channels,\n",
    "                out_channels,\n",
    "                kernal_size,\n",
    "                stride,\n",
    "                padding,\n",
    "                bias=False,\n",
    "            ),\n",
    "            nn.BatchNorm2d(out_channels),\n",
    "            nn.LeakyReLU(0.2),\n",
    "        )\n",
    "    def forward(self,x):\n",
    "        return self.disc(x)"
   ]
  },
  {
   "cell_type": "code",
   "execution_count": 68,
   "id": "e4c5d3a9-5727-4898-828c-757e605a2b06",
   "metadata": {},
   "outputs": [],
   "source": [
    "class Generator(nn.Module):\n",
    "    def __init__(self,noise_channels,img_channels,features):\n",
    "        super(Generator,self).__init__()\n",
    "        self.gen = nn.Sequential(\n",
    "        self.block(noise_channels, features*16,4,1,0), # img: 4x4\n",
    "        self.block(features*16,features*8,4,2,1),      # img: 8x8\n",
    "        self.block(features*8,features*4,4,2,1),        # img: 16x16\n",
    "        self.block(features*4,features*2,4,2,1),         # img: 32x32\n",
    "        nn.ConvTranspose2d(features*2,img_channels,kernel_size=4,stride=2,padding=1),\n",
    "        # output: N x img_channels x 64 x64 \n",
    "        nn.Tanh(),\n",
    "        )\n",
    "        \n",
    "    def block(self, in_channels, out_channels, kernel_size, stride, padding):\n",
    "        return nn.Sequential(\n",
    "            nn.ConvTranspose2d(\n",
    "                in_channels,\n",
    "                out_channels,\n",
    "                kernel_size,\n",
    "                stride,\n",
    "                padding,\n",
    "                bias=False,\n",
    "            ),\n",
    "            nn.BatchNorm2d(out_channels),\n",
    "            nn.ReLU(),\n",
    "        )\n",
    "    def forward(self,x):\n",
    "        return self.gen(x)      "
   ]
  },
  {
   "cell_type": "markdown",
   "id": "72d7451a-b37e-44b5-ad12-9f1c5e5a5d2c",
   "metadata": {},
   "source": [
    "### Initializes weights according to the DCGAN paper"
   ]
  },
  {
   "cell_type": "code",
   "execution_count": 80,
   "id": "0895ddb5-5fa7-4505-87e1-93a0d6fc6bee",
   "metadata": {},
   "outputs": [],
   "source": [
    "def initialize_weights(model):\n",
    "    for m in model.modules():\n",
    "        if isinstance(m,(nn.Conv2d,nn.ConvTranspose2d,nn.BatchNorm2d)):\n",
    "            nn.init.normal_(m.weight.data,0.0,0.02)"
   ]
  },
  {
   "cell_type": "markdown",
   "id": "e987a999-77dd-4495-b707-600b511e529b",
   "metadata": {},
   "source": [
    "## Test"
   ]
  },
  {
   "cell_type": "code",
   "execution_count": 48,
   "id": "cd5ee15f-62e4-4591-a0f0-2f85d9c167e8",
   "metadata": {},
   "outputs": [],
   "source": [
    "def test():\n",
    "    N,in_channels,H,W= 8,3,64,64\n",
    "    noise_dim=100\n",
    "    x= torch.randn((N,in_channels,H,W))\n",
    "    disc= Discriminator(in_channels,8)\n",
    "    gen= Generator(noise_dim,in_channels,8)\n",
    "    z= torch.randn((N,noise_dim,1,1))\n",
    "    print(\"Success\")\n",
    "    if __name__ == \"__main__\":\n",
    "        test()"
   ]
  },
  {
   "cell_type": "code",
   "execution_count": null,
   "id": "2dcd1064-51a0-4bc3-9e78-3c347d93a4d7",
   "metadata": {},
   "outputs": [],
   "source": []
  }
 ],
 "metadata": {
  "kernelspec": {
   "display_name": "Python 3 (ipykernel)",
   "language": "python",
   "name": "python3"
  },
  "language_info": {
   "codemirror_mode": {
    "name": "ipython",
    "version": 3
   },
   "file_extension": ".py",
   "mimetype": "text/x-python",
   "name": "python",
   "nbconvert_exporter": "python",
   "pygments_lexer": "ipython3",
   "version": "3.12.4"
  }
 },
 "nbformat": 4,
 "nbformat_minor": 5
}
